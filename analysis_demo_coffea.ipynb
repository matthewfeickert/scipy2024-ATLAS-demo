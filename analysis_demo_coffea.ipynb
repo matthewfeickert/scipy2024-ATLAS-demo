{
 "cells": [
  {
   "cell_type": "code",
   "execution_count": 3,
   "metadata": {},
   "outputs": [],
   "source": [
    "import coffea\n",
    "from coffea.nanoevents import NanoEventsFactory, BaseSchema, PHYSLITESchema\n",
    "from coffea.analysis_tools import PackedSelection\n",
    "import uproot\n",
    "from matplotlib import pyplot as plt\n",
    "import numpy as np\n",
    "import vector\n",
    "import awkward as ak\n",
    "from coffea import dataset_tools\n",
    "import hist\n",
    "import dask"
   ]
  },
  {
   "cell_type": "code",
   "execution_count": 4,
   "metadata": {},
   "outputs": [
    {
     "name": "stdout",
     "output_type": "stream",
     "text": [
      "coffea version:  2024.5.0\n",
      "awkward version:  2.6.4\n",
      "dask version:  2024.5.2\n"
     ]
    }
   ],
   "source": [
    "print(\"coffea version: \", coffea.__version__)\n",
    "print(\"awkward version: \", ak.__version__)\n",
    "print(\"dask version: \", dask.__version__)"
   ]
  },
  {
   "cell_type": "code",
   "execution_count": 5,
   "metadata": {},
   "outputs": [],
   "source": [
    "# Hgg -> 4l sample\n",
    "file_path = '/Users/ekourlitis/cernbox/mc20_13TeV.345060.PowhegPythia8EvtGen_NNLOPS_nnlo_30_ggH125_ZZ4l.deriv.DAOD_PHYSLITE.e7735_s3681_r13167_p6026/mc20_13TeV/DAOD_PHYSLITE.38191712._000020.pool.root.1'"
   ]
  },
  {
   "cell_type": "code",
   "execution_count": 6,
   "metadata": {},
   "outputs": [
    {
     "name": "stderr",
     "output_type": "stream",
     "text": [
      "/opt/miniconda3/envs/coffea_latest/lib/python3.11/site-packages/coffea/nanoevents/methods/physlite.py:10: FutureWarning: In version 2024.7.0 (target date: 2024-06-30 11:59:59-05:00), this will be an error.\n",
      "To raise these warnings as errors (and get stack traces to find out where they're called), run\n",
      "    import warnings\n",
      "    warnings.filterwarnings(\"error\", module=\"coffea.*\")\n",
      "after the first `import coffea` or use `@pytest.mark.filterwarnings(\"error:::coffea.*\")` in pytest.\n",
      "Issue: coffea.nanoevents.methods.vector will be removed and replaced with scikit-hep vector. Nanoevents schemas internal to coffea will be migrated. Otherwise please consider using that package!.\n",
      "  from coffea.nanoevents.methods import base, vector\n",
      "/opt/miniconda3/envs/coffea_latest/lib/python3.11/site-packages/coffea/util.py:234: UserWarning: Skipping xTrigDecisionAux.xAOD::AuxInfoBase as it is not interpretable by Uproot\n",
      "  warnings.warn(\n",
      "/opt/miniconda3/envs/coffea_latest/lib/python3.11/site-packages/coffea/util.py:234: UserWarning: Skipping METAssoc_AnalysisMETAux.xAOD::AuxContainerBase as it is not interpretable by Uproot\n",
      "  warnings.warn(\n",
      "/opt/miniconda3/envs/coffea_latest/lib/python3.11/site-packages/coffea/util.py:234: UserWarning: Skipping AntiKt10TruthSoftDropBeta100Zcut10JetsAux.xAOD::AuxContainerBase as it is not interpretable by Uproot\n",
      "  warnings.warn(\n",
      "/opt/miniconda3/envs/coffea_latest/lib/python3.11/site-packages/coffea/util.py:234: UserWarning: Skipping AntiKt10UFOCSSKJetsAux.xAOD::AuxContainerBase as it is not interpretable by Uproot\n",
      "  warnings.warn(\n",
      "/opt/miniconda3/envs/coffea_latest/lib/python3.11/site-packages/coffea/util.py:234: UserWarning: Skipping AntiKt4TruthDressedWZJetsAux.xAOD::AuxContainerBase as it is not interpretable by Uproot\n",
      "  warnings.warn(\n",
      "/opt/miniconda3/envs/coffea_latest/lib/python3.11/site-packages/coffea/util.py:234: UserWarning: Skipping EventInfoAuxDyn.hardScatterVertexLink as it is not interpretable by Uproot\n",
      "  warnings.warn(\n"
     ]
    }
   ],
   "source": [
    "def filter_name(name):\n",
    "    return name in [\n",
    "        \"AnalysisElectronsAuxDyn.pt\",\n",
    "        \"AnalysisElectronsAuxDyn.eta\",\n",
    "        \"AnalysisElectronsAuxDyn.phi\",\n",
    "        \"AnalysisElectronsAuxDyn.m\",\n",
    "        \"AnalysisElectronsAuxDyn.DFCommonElectronsLHLoose\",\n",
    "        \"AnalysisElectronsAuxDyn.ptvarcone30_Nonprompt_All_MaxWeightTTVALooseCone_pt1000\",\n",
    "        \"AnalysisElectronsAuxDyn.topoetcone20\",\n",
    "        \"AnalysisElectronsAuxDyn.charge\",\n",
    "        \"AnalysisMuonsAuxDyn.pt\",\n",
    "        \"AnalysisMuonsAuxDyn.eta\",\n",
    "        \"AnalysisMuonsAuxDyn.phi\",\n",
    "        \"AnalysisMuonsAuxDyn.m\",\n",
    "        \"AnalysisMuonsAuxDyn.quality\",\n",
    "        \"AnalysisMuonsAuxDyn.ptvarcone30_Nonprompt_All_MaxWeightTTVA_pt1000\",\n",
    "        \"AnalysisMuonsAuxDyn.topoetcone20\",\n",
    "    ]\n",
    "\n",
    "events = NanoEventsFactory.from_root(\n",
    "    {file_path: \"CollectionTree\"},\n",
    "    schemaclass=PHYSLITESchema,\n",
    "    uproot_options=dict(filter_name=filter_name),\n",
    ").events()"
   ]
  },
  {
   "cell_type": "markdown",
   "metadata": {},
   "source": [
    "# Highly structured jagged data"
   ]
  },
  {
   "cell_type": "code",
   "execution_count": 7,
   "metadata": {},
   "outputs": [
    {
     "data": {
      "text/plain": [
       "['Electrons', 'Muons']"
      ]
     },
     "execution_count": 7,
     "metadata": {},
     "output_type": "execute_result"
    }
   ],
   "source": [
    "events.fields"
   ]
  },
  {
   "cell_type": "code",
   "execution_count": 8,
   "metadata": {},
   "outputs": [
    {
     "data": {
      "text/html": [
       "<pre>[[{pt: 6.98e+03, _eventindex: 0, eta: -1.74, phi: -1.78, m: 0.511, ...}],\n",
       " [],\n",
       " [],\n",
       " [],\n",
       " [Electron, ...],\n",
       " [Electron, ...],\n",
       " [Electron, ...],\n",
       " [],\n",
       " [],\n",
       " [{pt: 2.02e+04, _eventindex: 9, eta: -0.571, phi: -0.453, m: 0.511, ...}],\n",
       " ...,\n",
       " [{pt: 5.69e+04, _eventindex: 39991, eta: 1.55, phi: 0.442, m: 0.511, ...}],\n",
       " [],\n",
       " [],\n",
       " [],\n",
       " [],\n",
       " [{pt: 1.35e+04, _eventindex: 39996, eta: -2.37, phi: 0.725, m: 0.511, ...}],\n",
       " [{pt: 4.44e+03, _eventindex: 39997, eta: -0.85, phi: 2.78, m: 0.511, ...}],\n",
       " [Electron, ...],\n",
       " [{pt: 2.8e+04, _eventindex: 39999, eta: -2.18, phi: 2.7, m: 0.511, ...}]]\n",
       "-----------------------------------------------------------------------------\n",
       "type: 40000 * var * electron</pre>"
      ],
      "text/plain": [
       "<ElectronArray [[{pt: 6.98e+03, ...}], ..., [{...}]] type='40000 * var * el...'>"
      ]
     },
     "execution_count": 8,
     "metadata": {},
     "output_type": "execute_result"
    }
   ],
   "source": [
    "events.Electrons.compute()"
   ]
  },
  {
   "cell_type": "markdown",
   "metadata": {},
   "source": [
    "# Data selection and feature engineering"
   ]
  },
  {
   "cell_type": "code",
   "execution_count": 9,
   "metadata": {},
   "outputs": [],
   "source": [
    "def object_selection(events):\n",
    "    '''\n",
    "    Select objects based on kinematic and quality criteria\n",
    "    '''\n",
    "    \n",
    "    electrons = events.Electrons\n",
    "    muons = events.Muons\n",
    "    \n",
    "    electron_reqs = (electrons.pt > 20) & \\\n",
    "                    (np.abs(electrons.eta) < 2.47) & \\\n",
    "                    (electrons.DFCommonElectronsLHLoose == 1) & \\\n",
    "                    (electrons.ptvarcone30_Nonprompt_All_MaxWeightTTVALooseCone_pt1000/electrons.pt < 0.15) & \\\n",
    "                    (electrons.topoetcone20/electrons.pt < 0.2)\n",
    "                    \n",
    "    # add quality requirements here\n",
    "    muon_reqs = (muons.pt > 20) & \\\n",
    "                (np.abs(muons.eta) < 2.7) & \\\n",
    "                (muons.quality == 2) & \\\n",
    "                (muons.ptvarcone30_Nonprompt_All_MaxWeightTTVA_pt1000/muons.pt < 0.15) & \\\n",
    "                (muons.topoetcone20/muons.pt < 0.3)\n",
    "    \n",
    "    # only keep objects that pass our requirements\n",
    "    electrons = electrons[electron_reqs]\n",
    "    muons = muons[muon_reqs]\n",
    "    \n",
    "    return electrons, muons\n",
    "\n",
    "def region_selection(electrons, muons):\n",
    "    '''\n",
    "    Select events based on object multiplicity\n",
    "    '''\n",
    "    \n",
    "    selections = PackedSelection(dtype='uint64')\n",
    "    # basic selection criteria\n",
    "    selections.add(\"exactly_4e\", ak.num(electrons) == 4)\n",
    "    selections.add(\"total_e_charge_zero\", ak.sum(electrons.charge, axis=1) == 0)\n",
    "    selections.add(\"exactly_0m\", ak.num(muons) == 0)\n",
    "    # selection criteria combination\n",
    "    selections.add(\"4e0m\", selections.all(\"exactly_4e\", \"total_e_charge_zero\", \"exactly_0m\"))\n",
    "    \n",
    "    return selections.all(\"4e0m\")\n",
    "\n",
    "def calculate_inv_mass(electrons):\n",
    "    '''\n",
    "    Construct invariant mass observable\n",
    "    '''\n",
    "    \n",
    "    # reconstruct Higgs as 4e system\n",
    "    candidates = ak.combinations(electrons, 4)\n",
    "    e1, e2, e3, e4 = ak.unzip(candidates)\n",
    "    candidates[\"p4\"] = e1 + e2 + e3 + e4\n",
    "    higgs_mass = candidates[\"p4\"].mass\n",
    "    observable = ak.flatten(higgs_mass/1000)\n",
    "    \n",
    "    return observable"
   ]
  },
  {
   "cell_type": "code",
   "execution_count": 10,
   "metadata": {},
   "outputs": [],
   "source": [
    "# select objects and events\n",
    "el, mu = object_selection(events)\n",
    "selection_4e0m = region_selection(el, mu)"
   ]
  },
  {
   "cell_type": "code",
   "execution_count": 11,
   "metadata": {},
   "outputs": [
    {
     "data": {
      "image/png": "[encoded data removed]",
      "text/plain": [
       "<Figure size 640x480 with 1 Axes>"
      ]
     },
     "metadata": {},
     "output_type": "display_data"
    }
   ],
   "source": [
    "plt.hist(calculate_inv_mass(el[selection_4e0m]).compute(), bins=100, range=(100, 150), label='Signal')\n",
    "plt.axvline(125.11, color='r', linestyle='dashed', linewidth=2, label='Expected Higgs Mass')\n",
    "plt.xlabel('Invariant mass [GeV]')\n",
    "plt.ylabel('Events')\n",
    "plt.legend()\n",
    "plt.show()"
   ]
  },
  {
   "cell_type": "markdown",
   "metadata": {},
   "source": [
    "# Scale out processing over multiple files"
   ]
  },
  {
   "cell_type": "code",
   "execution_count": 12,
   "metadata": {},
   "outputs": [],
   "source": [
    "fileset = {\"zz\"     : {'files': {'/Users/ekourlitis/cernbox/mc20_13TeV.700600.Sh_2212_llll.deriv.DAOD_PHYSLITE.e8433_s3681_r13167_p6026/mc20_13TeV/DAOD_PHYSLITE.37110926._000047.pool.root.1' : \"CollectionTree\"},\n",
    "                      'metadata': {'process': 'zz'}},\n",
    "           \"higgs\"  : {'files': {'/Users/ekourlitis/cernbox/mc20_13TeV.345060.PowhegPythia8EvtGen_NNLOPS_nnlo_30_ggH125_ZZ4l.deriv.DAOD_PHYSLITE.e7735_s3681_r13167_p6026/mc20_13TeV/DAOD_PHYSLITE.38191712._000020.pool.root.1' : \"CollectionTree\"}, \n",
    "                      'metadata': {'process': 'higgs'}}}\n",
    "\n",
    "# pre-process\n",
    "samples, _ = dataset_tools.preprocess(fileset)"
   ]
  },
  {
   "cell_type": "code",
   "execution_count": 13,
   "metadata": {},
   "outputs": [],
   "source": [
    "# create histogram with observables\n",
    "def create_histogram(events):\n",
    "    hist_4e0m = (\n",
    "        hist.dask.Hist.new.Reg(100, 100, 150, name='m_eeee', label=r\"$m_{eeee}$ [GeV]\")\n",
    "        .StrCat([], name='process', label='Process', growth=True)\n",
    "        .Weight()\n",
    "    )\n",
    "\n",
    "    process = events.metadata['process']\n",
    "\n",
    "    # normalization for MC\n",
    "    # x_sec = events.metadata[\"xsec\"]\n",
    "    # nevts_total = events.metadata[\"nevts\"]\n",
    "    # lumi = 3378 # /pb\n",
    "    # if process != \"data\":\n",
    "    #     xsec_weight = x_sec * lumi / nevts_total\n",
    "    # else:\n",
    "    #     xsec_weight = 1\n",
    "\n",
    "    el, mu = object_selection(events)\n",
    "\n",
    "    # region selection\n",
    "    selection_4e0m = region_selection(el, mu)\n",
    "\n",
    "    # observable\n",
    "    inv_mass = calculate_inv_mass(el[selection_4e0m])\n",
    "    hist_4e0m.fill(inv_mass, process=process)\n",
    "\n",
    "    return {\"4e0m\": hist_4e0m}"
   ]
  },
  {
   "cell_type": "code",
   "execution_count": 14,
   "metadata": {},
   "outputs": [],
   "source": [
    "# create the task graph\n",
    "tasks = dataset_tools.apply_to_fileset(create_histogram, \n",
    "                                       samples, \n",
    "                                       schemaclass=PHYSLITESchema, \n",
    "                                       uproot_options=dict(filter_name=filter_name))"
   ]
  },
  {
   "cell_type": "code",
   "execution_count": 15,
   "metadata": {},
   "outputs": [
    {
     "name": "stdout",
     "output_type": "stream",
     "text": [
      "CPU times: user 1.66 s, sys: 110 ms, total: 1.77 s\n",
      "Wall time: 1.77 s\n"
     ]
    }
   ],
   "source": [
    "%%time\n",
    "# execute\n",
    "(out, ) = dask.compute(tasks)"
   ]
  },
  {
   "cell_type": "code",
   "execution_count": 16,
   "metadata": {},
   "outputs": [],
   "source": [
    "full_histogram = sum([v[\"4e0m\"] for v in out.values()])"
   ]
  },
  {
   "cell_type": "code",
   "execution_count": 18,
   "metadata": {},
   "outputs": [
    {
     "data": {
      "text/plain": [
       "Text(0, 0.5, 'Events')"
      ]
     },
     "execution_count": 18,
     "metadata": {},
     "output_type": "execute_result"
    },
    {
     "data": {
      "image/png": "[encoded data removed]",
      "text/plain": [
       "<Figure size 640x480 with 1 Axes>"
      ]
     },
     "metadata": {},
     "output_type": "display_data"
    }
   ],
   "source": [
    "artists = full_histogram.stack(\"process\")[::-1].plot(\n",
    "    stack=True, histtype=\"fill\", linewidth=1, edgecolor=\"grey\", \n",
    ")\n",
    "\n",
    "ax = artists[0].stairs.axes\n",
    "fig = ax.get_figure()\n",
    "\n",
    "ax.legend(frameon=False)\n",
    "ax.set_yscale(\"log\")\n",
    "ax.set_ylabel(\"Events\")"
   ]
  }
 ],
 "metadata": {
  "kernelspec": {
   "display_name": "coffea_latest",
   "language": "python",
   "name": "python3"
  },
  "language_info": {
   "codemirror_mode": {
    "name": "ipython",
    "version": 3
   },
   "file_extension": ".py",
   "mimetype": "text/x-python",
   "name": "python",
   "nbconvert_exporter": "python",
   "pygments_lexer": "ipython3",
   "version": "3.11.9"
  }
 },
 "nbformat": 4,
 "nbformat_minor": 2
}
